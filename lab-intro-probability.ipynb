{
 "cells": [
  {
   "cell_type": "markdown",
   "metadata": {},
   "source": [
    "# Lab | Intro to Probability"
   ]
  },
  {
   "cell_type": "markdown",
   "metadata": {},
   "source": [
    "**Objective**\n",
    "\n",
    "Welcome to this Intro to Probability lab, where we explore decision-making scenarios through the lens of probability and strategic analysis. In the business world, making informed decisions is crucial, especially when faced with uncertainties. This lab focuses on scenarios where probabilistic outcomes play a significant role in shaping strategies and outcomes. Students will engage in exercises that require assessing and choosing optimal paths based on data-driven insights. The goal is to enhance your skills by applying probability concepts to solve real-world problems."
   ]
  },
  {
   "cell_type": "markdown",
   "metadata": {},
   "source": [
    "**Challenge 1**"
   ]
  },
  {
   "cell_type": "markdown",
   "metadata": {},
   "source": [
    "#### Ironhack Airlines \n",
    "\n",
    "Often Airlines sell more tickets than they have seats available, this is called overbooking. Consider the following:\n",
    "- A plane has 450 seats. \n",
    "- Based on historical data we conclude that each individual passenger has a 3% chance of missing it's flight. \n",
    "\n",
    "If the Ironhack Airlines routinely sells 460 tickets, what is the chance that they have a seats for all passenger?"
   ]
  },
  {
   "cell_type": "code",
   "execution_count": 1,
   "metadata": {},
   "outputs": [
    {
     "ename": "NameError",
     "evalue": "name 'stats' is not defined",
     "output_type": "error",
     "traceback": [
      "\u001b[1;31m---------------------------------------------------------------------------\u001b[0m",
      "\u001b[1;31mNameError\u001b[0m                                 Traceback (most recent call last)",
      "Cell \u001b[1;32mIn[1], line 75\u001b[0m\n\u001b[0;32m     71\u001b[0m     \u001b[38;5;28;01mreturn\u001b[39;00m prob_fail_30\n\u001b[0;32m     73\u001b[0m \u001b[38;5;66;03m# Running all challenges\u001b[39;00m\n\u001b[0;32m     74\u001b[0m results \u001b[38;5;241m=\u001b[39m {\n\u001b[1;32m---> 75\u001b[0m     \u001b[38;5;124m\"\u001b[39m\u001b[38;5;124mChallenge 1\u001b[39m\u001b[38;5;124m\"\u001b[39m: \u001b[43mchallenge_1\u001b[49m\u001b[43m(\u001b[49m\u001b[43m)\u001b[49m,\n\u001b[0;32m     76\u001b[0m     \u001b[38;5;124m\"\u001b[39m\u001b[38;5;124mChallenge 2\u001b[39m\u001b[38;5;124m\"\u001b[39m: challenge_2(),\n\u001b[0;32m     77\u001b[0m     \u001b[38;5;124m\"\u001b[39m\u001b[38;5;124mChallenge 3\u001b[39m\u001b[38;5;124m\"\u001b[39m: challenge_3(),\n\u001b[0;32m     78\u001b[0m     \u001b[38;5;124m\"\u001b[39m\u001b[38;5;124mChallenge 4\u001b[39m\u001b[38;5;124m\"\u001b[39m: challenge_4(),\n\u001b[0;32m     79\u001b[0m     \u001b[38;5;124m\"\u001b[39m\u001b[38;5;124mChallenge 5\u001b[39m\u001b[38;5;124m\"\u001b[39m: challenge_5(),\n\u001b[0;32m     80\u001b[0m     \u001b[38;5;124m\"\u001b[39m\u001b[38;5;124mChallenge 6\u001b[39m\u001b[38;5;124m\"\u001b[39m: challenge_6(),\n\u001b[0;32m     81\u001b[0m }\n\u001b[0;32m     83\u001b[0m results\n",
      "Cell \u001b[1;32mIn[1], line 12\u001b[0m, in \u001b[0;36mchallenge_1\u001b[1;34m()\u001b[0m\n\u001b[0;32m      9\u001b[0m prob_miss_flight \u001b[38;5;241m=\u001b[39m \u001b[38;5;241m0.03\u001b[39m\n\u001b[0;32m     11\u001b[0m \u001b[38;5;66;03m# Binomial Distribution for passengers showing up\u001b[39;00m\n\u001b[1;32m---> 12\u001b[0m prob_all_seated \u001b[38;5;241m=\u001b[39m \u001b[38;5;28msum\u001b[39m(\u001b[43mstats\u001b[49m\u001b[38;5;241m.\u001b[39mbinom\u001b[38;5;241m.\u001b[39mpmf(\u001b[38;5;28mrange\u001b[39m(n_seats \u001b[38;5;241m+\u001b[39m \u001b[38;5;241m1\u001b[39m), tickets_sold, \u001b[38;5;241m1\u001b[39m \u001b[38;5;241m-\u001b[39m prob_miss_flight))\n\u001b[0;32m     13\u001b[0m \u001b[38;5;28;01mreturn\u001b[39;00m prob_all_seated\n",
      "\u001b[1;31mNameError\u001b[0m: name 'stats' is not defined"
     ]
    }
   ],
   "source": [
    "#code hereimport scipy.stats as stats\n",
    "import math\n",
    "\n",
    "# Challenge 1: Ironhack Airlines\n",
    "def challenge_1():\n",
    "    # Parameters\n",
    "    n_seats = 450\n",
    "    tickets_sold = 460\n",
    "    prob_miss_flight = 0.03\n",
    "    \n",
    "    # Binomial Distribution for passengers showing up\n",
    "    prob_all_seated = sum(stats.binom.pmf(range(n_seats + 1), tickets_sold, 1 - prob_miss_flight))\n",
    "    return prob_all_seated\n",
    "\n",
    "# Challenge 2: Ironhack Call Center\n",
    "def challenge_2():\n",
    "    # Probability of resolving complaint on first attempt\n",
    "    p_success = 0.3\n",
    "    # Geometric distribution for first success on the 3rd attempt\n",
    "    prob_at_least_three_attempts = 1 - stats.geom.cdf(2, p_success)\n",
    "    return prob_at_least_three_attempts\n",
    "\n",
    "# Challenge 3: Ironhack Website\n",
    "def challenge_3():\n",
    "    # Parameters\n",
    "    mean_visits = 500\n",
    "    max_capacity = 550\n",
    "    std_dev_visits = math.sqrt(mean_visits)  # Assuming Poisson approximation to Normal\n",
    "    # Probability of being overwhelmed in one hour\n",
    "    prob_overwhelmed_one_hour = 1 - stats.norm.cdf(max_capacity, mean_visits, std_dev_visits)\n",
    "    # Probability of being overwhelmed in a 24-hour day\n",
    "    prob_no_overload_all_day = (1 - prob_overwhelmed_one_hour)**24\n",
    "    prob_overwhelmed_day = 1 - prob_no_overload_all_day\n",
    "    return prob_overwhelmed_one_hour, prob_overwhelmed_day\n",
    "\n",
    "# Challenge 4: Ironhack Helpdesk\n",
    "def challenge_4():\n",
    "    # Parameters for exponential distribution\n",
    "    mean_time = 10  # minutes\n",
    "    rate = 1 / mean_time\n",
    "    \n",
    "    # Probability next customer arrives within 5 minutes\n",
    "    prob_within_5 = 1 - math.exp(-rate * 5)\n",
    "    \n",
    "    # Probability no customer arrives for 15 minutes\n",
    "    prob_no_customer_15 = math.exp(-rate * 15)\n",
    "    prob_employee_break = prob_no_customer_15\n",
    "    return prob_within_5, prob_employee_break\n",
    "\n",
    "# Challenge 5: Bird Weights\n",
    "def challenge_5():\n",
    "    # Parameters\n",
    "    mean_weight = 150\n",
    "    std_dev_weight = 10\n",
    "    lower_bound = 140\n",
    "    upper_bound = 160\n",
    "    \n",
    "    # Probability weight between 140 and 160 grams\n",
    "    prob_between = stats.norm.cdf(upper_bound, mean_weight, std_dev_weight) - stats.norm.cdf(lower_bound, mean_weight, std_dev_weight)\n",
    "    return prob_between\n",
    "\n",
    "# Challenge 6: Component Lifetime\n",
    "def challenge_6():\n",
    "    # Parameters\n",
    "    mean_lifetime = 50  # hours\n",
    "    rate = 1 / mean_lifetime\n",
    "    max_hours = 30\n",
    "    \n",
    "    # Probability component fails within 30 hours\n",
    "    prob_fail_30 = 1 - math.exp(-rate * max_hours)\n",
    "    return prob_fail_30\n",
    "\n",
    "# Running all challenges\n",
    "results = {\n",
    "    \"Challenge 1\": challenge_1(),\n",
    "    \"Challenge 2\": challenge_2(),\n",
    "    \"Challenge 3\": challenge_3(),\n",
    "    \"Challenge 4\": challenge_4(),\n",
    "    \"Challenge 5\": challenge_5(),\n",
    "    \"Challenge 6\": challenge_6(),\n",
    "}\n",
    "\n",
    "results\n"
   ]
  },
  {
   "cell_type": "markdown",
   "metadata": {},
   "source": [
    "**Challenge 2**"
   ]
  },
  {
   "cell_type": "markdown",
   "metadata": {},
   "source": [
    "#### Ironhack Call Center "
   ]
  },
  {
   "cell_type": "markdown",
   "metadata": {},
   "source": [
    "Suppose a customer service representative at a call center is handling customer complaints. Consider the following:\n",
    "- The probability of successfully resolving a customer complaint on the first attempt is 0.3. \n",
    "\n",
    "\n",
    "What is the probability that the representative needs to make at least three attempts before successfully resolving a customer complaint?"
   ]
  },
  {
   "cell_type": "code",
   "execution_count": 5,
   "metadata": {},
   "outputs": [],
   "source": [
    "#code here"
   ]
  },
  {
   "cell_type": "markdown",
   "metadata": {},
   "source": [
    "**Challenge 3**"
   ]
  },
  {
   "cell_type": "markdown",
   "metadata": {},
   "source": [
    "#### Ironhack Website"
   ]
  },
  {
   "cell_type": "markdown",
   "metadata": {},
   "source": [
    "Consider a scenario related to Ironhack website traffic. Where:\n",
    "- our website takes on average 500 visits per hour.\n",
    "- the website's server is designed to handle up to 550 vists per hour.\n",
    "\n",
    "\n",
    "What is the probability of the website server being overwhelmed?"
   ]
  },
  {
   "cell_type": "code",
   "execution_count": 6,
   "metadata": {},
   "outputs": [],
   "source": [
    "#code here"
   ]
  },
  {
   "cell_type": "markdown",
   "metadata": {},
   "source": [
    "What is the probability of being overwhelmed at some point during a day? (consider 24hours)"
   ]
  },
  {
   "cell_type": "code",
   "execution_count": 7,
   "metadata": {},
   "outputs": [],
   "source": [
    "#code here"
   ]
  },
  {
   "cell_type": "markdown",
   "metadata": {},
   "source": [
    "**Challenge 4**"
   ]
  },
  {
   "cell_type": "markdown",
   "metadata": {},
   "source": [
    "#### Ironhack Helpdesk"
   ]
  },
  {
   "cell_type": "markdown",
   "metadata": {},
   "source": [
    "Consider a scenario related to the time between arrivals of customers at a service desk.\n",
    "\n",
    "On average, a customers arrives every 10minutes.\n",
    "\n",
    "What is the probability that the next customer will arrive within the next 5 minutes?"
   ]
  },
  {
   "cell_type": "code",
   "execution_count": null,
   "metadata": {},
   "outputs": [],
   "source": []
  },
  {
   "cell_type": "markdown",
   "metadata": {},
   "source": [
    "If there is no customer for 15minutes, employees can that a 5minutes break.\n",
    "\n",
    "What is the probability an employee taking a break?"
   ]
  },
  {
   "cell_type": "code",
   "execution_count": null,
   "metadata": {},
   "outputs": [],
   "source": []
  },
  {
   "cell_type": "markdown",
   "metadata": {},
   "source": [
    "**Challenge 5**"
   ]
  },
  {
   "cell_type": "markdown",
   "metadata": {},
   "source": [
    "The weights of a certain species of birds follow a normal distribution with a mean weight of 150 grams and a standard deviation of 10 grams. \n",
    "\n",
    "- If we randomly select a bird, what is the probability that its weight is between 140 and 160 grams?"
   ]
  },
  {
   "cell_type": "code",
   "execution_count": null,
   "metadata": {},
   "outputs": [],
   "source": [
    "#code here"
   ]
  },
  {
   "cell_type": "markdown",
   "metadata": {},
   "source": [
    "**Challenge 6**"
   ]
  },
  {
   "cell_type": "markdown",
   "metadata": {},
   "source": [
    "If the lifetime (in hours) of a certain electronic component follows an exponential distribution with a mean lifetime of 50 hours, what is the probability that the component fails within the first 30 hours?"
   ]
  },
  {
   "cell_type": "code",
   "execution_count": null,
   "metadata": {},
   "outputs": [],
   "source": [
    "#code here"
   ]
  }
 ],
 "metadata": {
  "kernelspec": {
   "display_name": "base",
   "language": "python",
   "name": "python3"
  },
  "language_info": {
   "codemirror_mode": {
    "name": "ipython",
    "version": 3
   },
   "file_extension": ".py",
   "mimetype": "text/x-python",
   "name": "python",
   "nbconvert_exporter": "python",
   "pygments_lexer": "ipython3",
   "version": "3.12.4"
  }
 },
 "nbformat": 4,
 "nbformat_minor": 2
}
